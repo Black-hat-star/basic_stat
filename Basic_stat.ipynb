{
 "cells": [
  {
   "cell_type": "raw",
   "id": "1f6c59c7-1536-4662-9ebd-5a3c54753517",
   "metadata": {},
   "source": [
    "1)Statistics is the science of collecting,organizing and analyzing data"
   ]
  },
  {
   "cell_type": "raw",
   "id": "8c812ce4-1c0f-4c6c-940a-e4b4fa1c0b21",
   "metadata": {},
   "source": [
    "2)Discriptive sta-It comprises of organizing and summarizing data.This shoulsd be used when we need to measure central tendency ,dispersion\n",
    "Inferential stat-It consist of using data we have measured to get into the conclusion,mainly used in hypothesis testing "
   ]
  },
  {
   "cell_type": "raw",
   "id": "b73bdec7-3f53-480c-9a78-19129170e3fd",
   "metadata": {},
   "source": [
    "3)Data are of two types Qualitative and Quantitative where qualitative include categorical variable and uantitative include numerical variable"
   ]
  },
  {
   "cell_type": "raw",
   "id": "9dcc7d14-03d4-43d5-a27b-7a101e0d463a",
   "metadata": {},
   "source": [
    "4)i)Qualitative\n",
    "ii)Qualitative\n",
    "iii)Quantitative\n",
    "iv)Quantitative"
   ]
  },
  {
   "cell_type": "raw",
   "id": "aba9e1e0-3c19-4261-b5ed-af2688529512",
   "metadata": {},
   "source": [
    "5)Nominal scale data-includes categorical data e.g gender colour\n",
    "Ordinal data-Ranking is important,order matter,difference cannot be measured,e.g good better best\n",
    "Internal Scale data-Order matters,diiference can be measured,ratio cannot be measured\n",
    "e.g diff temp in diif time of day\n",
    "Ratio scale data-Order matters,diiference can be measured"
   ]
  },
  {
   "cell_type": "raw",
   "id": "70f2c117-87a9-4748-b124-a188980afaad",
   "metadata": {},
   "source": [
    "6)Nominal scale data-includes categorical data e.g gender colour\n",
    "Ordinal data-Ranking is important,order matter,difference cannot be measured,e.g good better best\n",
    "Internal Scale data-Order matters,diiference can be measured,ratio cannot be measured\n",
    "e.g diff temp in diif time of day\n",
    "Ratio scale data-Order matters,diiference can be measured"
   ]
  },
  {
   "cell_type": "raw",
   "id": "56cf6ffe-390f-48a7-91b0-d291c7bedff3",
   "metadata": {},
   "source": [
    "7)Nominal data is different from ordinal data type in nominal order doesn't matter in ordinal data order does matter . "
   ]
  },
  {
   "cell_type": "raw",
   "id": "5f15c6bf-f866-425f-8387-fda51d095b22",
   "metadata": {},
   "source": [
    "8)Box (Interquartile Range): The box represents the interquartile range (IQR), which is the range between the first quartile (Q1) and the third quartile (Q3). The length of the box indicates the spread of the central 50% of the data.\n",
    "\n",
    "Line Inside the Box (Median): A line inside the box represents the median of the data, which is the middle value when the data is ordered.\n",
    "\n",
    "Whiskers: The whiskers extend from the edges of the box to the minimum and maximum values within a specified range (usually 1.5 times the IQR). Any data points beyond the whiskers are considered potential outliers and are plotted individually."
   ]
  },
  {
   "cell_type": "raw",
   "id": "3cd523d6-efc1-43e2-ab7d-66dab08f5a76",
   "metadata": {},
   "source": [
    "9)Discriptive sta-It comprises of organizing and summarizing data.This shoulsd be used when we need to measure central tendency ,dispersion\n",
    "Inferential stat-It consist of using data we have measured to get into the conclusion,mainly used in hypothesis testing."
   ]
  },
  {
   "cell_type": "raw",
   "id": "26322a6d-dc05-474e-aef4-b680ea9e25e5",
   "metadata": {},
   "source": []
  },
  {
   "cell_type": "raw",
   "id": "3a325e9a-f148-4c1a-89ca-b3e86c0bbd69",
   "metadata": {},
   "source": [
    "10)Measure of central tendency are mean,mode,median\n",
    "mean-it is the average of all the dataset used in the statistics.\n",
    "mode-it is the numerical data with the highest frequency\n",
    "median-the data which comes inm the middle of the dataset after sorting into ascending or descending dataset.\n",
    "Range-It is difference between the highest and lowest dataset\n",
    "Quartile-\n",
    "Q1 is the \"middle\" value in the first half of the rank-ordered data set.\n",
    "Q2 is the median value of the data set\n",
    "Q3 is the \"middle\" value of the second half of the rank-ordered data set\n",
    "Q4 would technically be the largest value in the dataset, but we ignore it when calculating the IQR (we already dealt with it when we calculated the range)."
   ]
  }
 ],
 "metadata": {
  "kernelspec": {
   "display_name": "Python 3 (ipykernel)",
   "language": "python",
   "name": "python3"
  },
  "language_info": {
   "codemirror_mode": {
    "name": "ipython",
    "version": 3
   },
   "file_extension": ".py",
   "mimetype": "text/x-python",
   "name": "python",
   "nbconvert_exporter": "python",
   "pygments_lexer": "ipython3",
   "version": "3.10.8"
  }
 },
 "nbformat": 4,
 "nbformat_minor": 5
}
