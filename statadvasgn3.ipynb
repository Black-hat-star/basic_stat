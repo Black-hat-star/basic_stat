{
 "cells": [
  {
   "cell_type": "raw",
   "id": "0b48226f-da94-4fe2-b5b2-977db7ffb243",
   "metadata": {},
   "source": [
    "1)Estimation statistics is a branch of statistics that involves using sample data to make inferences or estimates about population parameters. It is used when it is impractical or impossible to study an entire population, so researchers take a sample from the population and use statistical methods to make predictions or estimates about the population as a whole.\n",
    "\n",
    "Point Estimate:\n",
    "\n",
    "A point estimate is a single value that is used to approximate a population parameter. It is a specific numerical value that is considered the best estimate of the true parameter based on the sample data.\n",
    "For example, if you want to estimate the average height of students in a school, the sample mean (average height of the sampled students) would be a point estimate of the population mean.\n",
    "\n",
    "Interval Estimate:\n",
    "\n",
    "An interval estimate, on the other hand, provides a range of values within which the true population parameter is likely to fall. It takes into account the uncertainty associated with estimating a population parameter from a sample.\n",
    "Confidence intervals are commonly used for interval estimates. A confidence interval provides a range of values and a level of confidence that the true parameter is within that range. For example, a 95% confidence interval for the average height of students might be from 160 cm to 170 cm."
   ]
  },
  {
   "cell_type": "code",
   "execution_count": 1,
   "id": "896d58a7-de68-4be8-927f-c76027fed402",
   "metadata": {},
   "outputs": [
    {
     "name": "stdout",
     "output_type": "stream",
     "text": [
      "Point Estimate (Population Mean): 150\n",
      "Confidence Interval: [146.4215459576329, 153.5784540423671]\n"
     ]
    }
   ],
   "source": [
    "###2)\n",
    "import math\n",
    "\n",
    "def estimate_population_mean(sample_mean, sample_std_dev, sample_size):\n",
    "    \"\"\"\n",
    "    Estimate the population mean given a sample mean, sample standard deviation, and sample size.\n",
    "    \n",
    "    Parameters:\n",
    "    - sample_mean: The mean of the sample.\n",
    "    - sample_std_dev: The standard deviation of the sample.\n",
    "    - sample_size: The size of the sample.\n",
    "    \n",
    "    Returns:\n",
    "    - population_mean_estimate: The estimated population mean.\n",
    "    \"\"\"\n",
    "    # Calculate the standard error of the mean (SEM)\n",
    "    standard_error = sample_std_dev / math.sqrt(sample_size)\n",
    "    \n",
    "    # Calculate the margin of error\n",
    "    # For a point estimate, you might choose a confidence level (e.g., 95%) and corresponding z-score\n",
    "    # For a 95% confidence level, the z-score is approximately 1.96\n",
    "    confidence_level_z_score = 1.96\n",
    "    margin_of_error = confidence_level_z_score * standard_error\n",
    "    \n",
    "    # Calculate the interval estimate (confidence interval)\n",
    "    lower_bound = sample_mean - margin_of_error\n",
    "    upper_bound = sample_mean + margin_of_error\n",
    "    \n",
    "    # The point estimate is the sample mean itself\n",
    "    population_mean_estimate = sample_mean\n",
    "    \n",
    "    print(f\"Point Estimate (Population Mean): {population_mean_estimate}\")\n",
    "    print(f\"Confidence Interval: [{lower_bound}, {upper_bound}]\")\n",
    "    \n",
    "    return population_mean_estimate\n",
    "\n",
    "# Example usage:\n",
    "sample_mean = 150  # Replace with your sample mean\n",
    "sample_std_dev = 10  # Replace with your sample standard deviation\n",
    "sample_size = 30  # Replace with your sample size\n",
    "\n",
    "estimated_population_mean = estimate_population_mean(sample_mean, sample_std_dev, sample_size)\n"
   ]
  },
  {
   "cell_type": "raw",
   "id": "b1353671-179f-4963-b95c-4fcb5084c4b9",
   "metadata": {},
   "source": [
    "3)Hypothesis testing is a statistical method used to make inferences about population parameters based on a sample of data. It involves formulating two competing hypotheses about a population parameter and using sample data to determine which hypothesis is more likely to be true. The two main hypotheses in hypothesis testing are the null hypothesis  and the alternative hypothesis \n",
    "\n",
    "Null Hypothesis (H0): A statement that there is no significant difference or effect. It represents a default or baseline assumption.\n",
    "Alternative Hypothesis (H1 or Ha): A statement that contradicts the null hypothesis, suggesting a significant difference or effect.\n",
    "\n",
    "Importance of Hypothesis Testing:\n",
    "\n",
    "Informed Decision Making:\n",
    "\n",
    "Hypothesis testing provides a systematic and objective way to make decisions about population parameters. It helps researchers and analysts make informed choices based on evidence from sample data.\n",
    "Scientific Research:\n",
    "\n",
    "In scientific research, hypothesis testing is fundamental for validating or refuting scientific hypotheses. It allows scientists to draw conclusions about the generalizability of their findings to the broader population."
   ]
  },
  {
   "cell_type": "raw",
   "id": "05b3deee-1011-41ad-960e-8192d7a0951c",
   "metadata": {},
   "source": [
    "4)Ho=The average weight of male college students is equal to or less than the average weight of female college students.\n",
    "H1=The average weight of male college students is greater than the average weight of female college students."
   ]
  },
  {
   "cell_type": "code",
   "execution_count": 2,
   "id": "a33134ae-8202-4815-8c99-d792a026f139",
   "metadata": {},
   "outputs": [
    {
     "name": "stdout",
     "output_type": "stream",
     "text": [
      "Independent Samples T-Test Results:\n",
      "T-Statistic: 6.92820323027551\n",
      "P-Value: 1.586602024029912e-05\n",
      "Reject Null Hypothesis: True\n"
     ]
    }
   ],
   "source": [
    "###5)\n",
    "import numpy as np\n",
    "from scipy.stats import ttest_ind\n",
    "\n",
    "def conduct_t_test(sample1, sample2, alpha=0.05):\n",
    "    \"\"\"\n",
    "    Conduct an independent samples t-test on the difference between two population means.\n",
    "\n",
    "    Parameters:\n",
    "    - sample1: First sample data (numpy array or list).\n",
    "    - sample2: Second sample data (numpy array or list).\n",
    "    - alpha: Significance level for the test.\n",
    "\n",
    "    Returns:\n",
    "    - result: A dictionary containing the t-test statistic, p-value, and whether to reject the null hypothesis.\n",
    "    \"\"\"\n",
    "    # Conduct independent samples t-test\n",
    "    t_statistic, p_value = ttest_ind(sample1, sample2)\n",
    "\n",
    "    # Compare p-value to significance level\n",
    "    if p_value < alpha:\n",
    "        reject_null = True\n",
    "    else:\n",
    "        reject_null = False\n",
    "\n",
    "    # Store results in a dictionary\n",
    "    result = {\n",
    "        't_statistic': t_statistic,\n",
    "        'p_value': p_value,\n",
    "        'reject_null': reject_null\n",
    "    }\n",
    "\n",
    "    return result\n",
    "\n",
    "# Example usage:\n",
    "# Replace these samples with your actual data\n",
    "male_weights = np.array([70, 72, 68, 74, 71, 73, 69])\n",
    "female_weights = np.array([62, 64, 60, 63, 65, 61, 66])\n",
    "\n",
    "result = conduct_t_test(male_weights, female_weights)\n",
    "\n",
    "# Display results\n",
    "print(\"Independent Samples T-Test Results:\")\n",
    "print(f\"T-Statistic: {result['t_statistic']}\")\n",
    "print(f\"P-Value: {result['p_value']}\")\n",
    "print(f\"Reject Null Hypothesis: {result['reject_null']}\")\n"
   ]
  },
  {
   "cell_type": "raw",
   "id": "35f40dbd-199c-4886-8566-84fa8fa747d1",
   "metadata": {},
   "source": [
    "6)Null Hypothesis (H0): A statement that there is no significant difference or effect. It represents a default or baseline assumption.\n",
    "Alternative Hypothesis (H1 or Ha): A statement that contradicts the null hypothesis, suggesting a significant difference or effect.\n",
    "Ho=The average weight of male college students is equal to or less than the average weight of female college students.\n",
    "H1=The average weight of male college students is greater than the average weight of female college students."
   ]
  },
  {
   "cell_type": "raw",
   "id": "d02e2f8f-2ef6-4a7a-b817-f9cae45796d5",
   "metadata": {},
   "source": [
    "7)Formulate hypothesis =assume null and alternate hypothesis\n",
    "Choose Significance Level (α):\n",
    "\n",
    "The significance level, often denoted as α, is the probability of rejecting the null hypothesis when it is true. Common choices are 0.05, 0.01, or 0.10.\n",
    "Select the Test Statistic:\n",
    "\n",
    "Choose a statistical test that is appropriate for the data and research question. The choice depends on factors such as the type of data (e.g., continuous or categorical) and the nature of the hypothesis (e.g., comparing means or proportions).\n",
    "Collect and Analyze Data:\n",
    "\n",
    "Collect a sample of data from the population of interest.\n",
    "Perform the necessary calculations or statistical analysis based on the chosen test statistic.\n",
    "Determine the Critical Region (Rejection Region):\n",
    "\n",
    "Identify the critical region in the distribution of the test statistic. This is the region of extreme values that, if observed, would lead to the rejection of the null hypothesis.\n",
    "Calculate the Test Statistic:\n",
    "\n",
    "Compute the test statistic using the sample data and the chosen test procedure.\n",
    "Make a Decision:\n",
    "\n",
    "Compare the calculated test statistic to the critical value(s) or use the p-value to make a decision.\n",
    "If the test statistic falls in the critical region or the p-value is less than the significance level, reject the null hypothesis.\n",
    "If the test statistic does not fall in the critical region and the p-value is greater than the significance level, fail to reject the null hypothesis.\n",
    "Draw Conclusions:\n",
    "\n",
    "Based on the decision in step 7, draw conclusions about the null hypothesis and its implications for the population parameter.\n",
    "Be cautious about making causal interpretations; hypothesis testing provides evidence against the null hypothesis but does not prove the alternative hypothesis."
   ]
  },
  {
   "cell_type": "raw",
   "id": "9eb038ca-aa35-4e6f-bf8e-144dd5d28d5f",
   "metadata": {},
   "source": [
    "8)The p-value is a statistical measure that helps assess the evidence against a null hypothesis in hypothesis testing. It quantifies the probability of obtaining observed results (or more extreme results) if the null hypothesis is true. In other words, the p-value indicates the likelihood of observing the sample data or more extreme data under the assumption that the null hypothesis is correct.\n",
    "\n",
    "Low P-Value (typically less than the chosen significance level, α):\n",
    "\n",
    "If the p-value is very small, it suggests that the observed data are unlikely to occur by random chance alone if the null hypothesis is true.\n",
    "This leads to the rejection of the null hypothesis in favor of the alternative hypothesis.\n",
    "The smaller the p-value, the stronger the evidence against the null hypothesis.\n",
    "High P-Value (greater than or equal to α):\n",
    "\n",
    "If the p-value is relatively large, it suggests that the observed data are not unusual under the null hypothesis.\n",
    "This leads to a failure to reject the null hypothesis. There is not enough evidence to support the alternative hypothesis.\n",
    "The larger the p-value, the weaker the evidence against the null hypothesis."
   ]
  },
  {
   "cell_type": "code",
   "execution_count": 3,
   "id": "c5a46432-a0c6-4c62-be33-b2592713a501",
   "metadata": {},
   "outputs": [
    {
     "data": {
      "image/png": "[encoded data removed]",
      "text/plain": [
       "<Figure size 640x480 with 1 Axes>"
      ]
     },
     "metadata": {},
     "output_type": "display_data"
    }
   ],
   "source": [
    "###9)\n",
    "import numpy as np\n",
    "import matplotlib.pyplot as plt\n",
    "from scipy.stats import t\n",
    "\n",
    "# Set the degrees of freedom\n",
    "degrees_of_freedom = 10\n",
    "\n",
    "# Generate x values (range of t-distribution)\n",
    "x_values = np.linspace(-4, 4, 1000)\n",
    "\n",
    "# Calculate the probability density function (PDF) for each x value\n",
    "pdf_values = t.pdf(x_values, df=degrees_of_freedom)\n",
    "\n",
    "# Plot the t-distribution\n",
    "plt.plot(x_values, pdf_values, label=f'Student\\'s t-distribution (df={degrees_of_freedom})')\n",
    "plt.title('Student\\'s t-distribution')\n",
    "plt.xlabel('x')\n",
    "plt.ylabel('Probability Density Function (PDF)')\n",
    "plt.legend()\n",
    "plt.grid(True)\n",
    "plt.show()\n"
   ]
  },
  {
   "cell_type": "code",
   "execution_count": 4,
   "id": "af5124d9-f23a-4d1b-a9cb-b8ff0e2ba907",
   "metadata": {},
   "outputs": [
    {
     "name": "stdout",
     "output_type": "stream",
     "text": [
      "Two-Sample T-Test Results:\n",
      "T-Statistic: 0.5741692517632145\n",
      "P-Value: 0.5816333668955778\n",
      "Fail to reject the null hypothesis: There is not enough evidence to suggest a difference in population means.\n"
     ]
    }
   ],
   "source": [
    "###10)\n",
    "import numpy as np\n",
    "from scipy.stats import ttest_ind\n",
    "\n",
    "def two_sample_t_test(sample1, sample2):\n",
    "    \"\"\"\n",
    "    Perform a two-sample t-test for independent samples.\n",
    "\n",
    "    Parameters:\n",
    "    - sample1: First sample data (numpy array or list).\n",
    "    - sample2: Second sample data (numpy array or list).\n",
    "\n",
    "    Returns:\n",
    "    - t_statistic: The calculated t-statistic.\n",
    "    - p_value: The two-tailed p-value.\n",
    "    \"\"\"\n",
    "    t_statistic, p_value = ttest_ind(sample1, sample2)\n",
    "    return t_statistic, p_value\n",
    "\n",
    "# Example usage:\n",
    "# Replace these samples with your actual data\n",
    "sample1 = np.array([25, 30, 35, 40, 45])\n",
    "sample2 = np.array([20, 28, 32, 38, 42])\n",
    "\n",
    "t_statistic, p_value = two_sample_t_test(sample1, sample2)\n",
    "\n",
    "# Display results\n",
    "print(\"Two-Sample T-Test Results:\")\n",
    "print(f\"T-Statistic: {t_statistic}\")\n",
    "print(f\"P-Value: {p_value}\")\n",
    "\n",
    "# Interpret the results\n",
    "alpha = 0.05  # Set your significance level\n",
    "if p_value < alpha:\n",
    "    print(\"Reject the null hypothesis: There is significant evidence that the population means are different.\")\n",
    "else:\n",
    "    print(\"Fail to reject the null hypothesis: There is not enough evidence to suggest a difference in population means.\")\n"
   ]
  },
  {
   "cell_type": "raw",
   "id": "e0709cd6-88c4-4399-99a5-dcfd3a6028c0",
   "metadata": {},
   "source": [
    "11)Student's t-distribution (or simply t-distribution) is a probability distribution that arises in statistical inference when estimating the mean of a normally distributed population with a small sample size."
   ]
  },
  {
   "cell_type": "raw",
   "id": "004f7867-43cb-4b08-b088-c5b202ffa435",
   "metadata": {},
   "source": [
    "12)The t-statistic is a measure used in hypothesis testing to assess whether the means of two groups are significantly different or whether a sample mean is significantly different from a known or hypothesized population mean. It is particularly useful when dealing with small sample sizes or when the population standard deviation is unknown and must be estimated from the sample."
   ]
  },
  {
   "cell_type": "code",
   "execution_count": 5,
   "id": "0f846a2b-bc88-422d-a7e3-f69f8e8256a2",
   "metadata": {},
   "outputs": [
    {
     "name": "stdout",
     "output_type": "stream",
     "text": [
      "95% Confidence Interval for Population Mean Revenue: $485.79 to $514.21\n"
     ]
    }
   ],
   "source": [
    "###13)\n",
    "import scipy.stats as stats\n",
    "import math\n",
    "\n",
    "# Given data\n",
    "sample_mean = 500  # in dollars\n",
    "sample_std_dev = 50  # in dollars\n",
    "sample_size = 50\n",
    "\n",
    "# Calculate the critical value for a 95% confidence interval\n",
    "confidence_level = 0.95\n",
    "degrees_of_freedom = sample_size - 1\n",
    "critical_value = stats.t.ppf((1 + confidence_level) / 2, degrees_of_freedom)\n",
    "\n",
    "# Calculate the margin of error\n",
    "margin_of_error = critical_value * (sample_std_dev / math.sqrt(sample_size))\n",
    "\n",
    "# Calculate the confidence interval\n",
    "lower_bound = sample_mean - margin_of_error\n",
    "upper_bound = sample_mean + margin_of_error\n",
    "\n",
    "# Display the results\n",
    "print(f\"95% Confidence Interval for Population Mean Revenue: ${lower_bound:.2f} to ${upper_bound:.2f}\")\n"
   ]
  },
  {
   "cell_type": "code",
   "execution_count": 6,
   "id": "9fecea79-c5fb-439b-a21e-743c57c8bd57",
   "metadata": {},
   "outputs": [
    {
     "name": "stdout",
     "output_type": "stream",
     "text": [
      "Reject the null hypothesis: The mean decrease in blood pressure is significantly different from 10 mmHg.\n",
      "t-Statistic: -6.6667\n",
      "P-Value: 0.0000\n"
     ]
    }
   ],
   "source": [
    "###14)\n",
    "import scipy.stats as stats\n",
    "import math\n",
    "\n",
    "# Given data\n",
    "sample_mean = 8  # mmHg\n",
    "hypothesized_mean = 10  # mmHg (null hypothesis)\n",
    "sample_std_dev = 3  # mmHg\n",
    "sample_size = 100\n",
    "\n",
    "# Calculate the t-statistic\n",
    "t_statistic = (sample_mean - hypothesized_mean) / (sample_std_dev / math.sqrt(sample_size))\n",
    "\n",
    "# Calculate the degrees of freedom\n",
    "degrees_of_freedom = sample_size - 1\n",
    "\n",
    "# Calculate the p-value for a two-tailed test\n",
    "p_value = 2 * (1 - stats.t.cdf(abs(t_statistic), degrees_of_freedom))\n",
    "\n",
    "# Set the significance level\n",
    "alpha = 0.05\n",
    "\n",
    "# Test the hypothesis\n",
    "if p_value < alpha:\n",
    "    print(\"Reject the null hypothesis: The mean decrease in blood pressure is significantly different from 10 mmHg.\")\n",
    "else:\n",
    "    print(\"Fail to reject the null hypothesis: There is not enough evidence to suggest a significant difference in mean decrease.\")\n",
    "    \n",
    "# Display the results\n",
    "print(f\"t-Statistic: {t_statistic:.4f}\")\n",
    "print(f\"P-Value: {p_value:.4f}\")\n"
   ]
  },
  {
   "cell_type": "code",
   "execution_count": 7,
   "id": "91f8ad32-ce06-4a05-95f9-e0c361f78301",
   "metadata": {},
   "outputs": [
    {
     "name": "stdout",
     "output_type": "stream",
     "text": [
      "Fail to reject the null hypothesis: There is not enough evidence to suggest a significant difference in mean weight.\n",
      "t-Statistic: -2.0000\n",
      "P-Value: 0.0285\n"
     ]
    }
   ],
   "source": [
    "###15)\n",
    "import scipy.stats as stats\n",
    "import math\n",
    "\n",
    "# Given data\n",
    "sample_mean = 4.8  # pounds\n",
    "hypothesized_mean = 5  # pounds (null hypothesis)\n",
    "sample_std_dev = 0.5  # pounds\n",
    "sample_size = 25\n",
    "\n",
    "# Calculate the t-statistic\n",
    "t_statistic = (sample_mean - hypothesized_mean) / (sample_std_dev / math.sqrt(sample_size))\n",
    "\n",
    "# Calculate the degrees of freedom\n",
    "degrees_of_freedom = sample_size - 1\n",
    "\n",
    "# Calculate the p-value for a one-tailed test\n",
    "p_value = stats.t.cdf(t_statistic, degrees_of_freedom)\n",
    "\n",
    "# Set the significance level\n",
    "alpha = 0.01\n",
    "\n",
    "# Test the hypothesis\n",
    "if p_value < alpha:\n",
    "    print(\"Reject the null hypothesis: The true mean weight is significantly less than 5 pounds.\")\n",
    "else:\n",
    "    print(\"Fail to reject the null hypothesis: There is not enough evidence to suggest a significant difference in mean weight.\")\n",
    "    \n",
    "# Display the results\n",
    "print(f\"t-Statistic: {t_statistic:.4f}\")\n",
    "print(f\"P-Value: {p_value:.4f}\")\n"
   ]
  },
  {
   "cell_type": "code",
   "execution_count": 8,
   "id": "54ea49ec-47c4-4230-851f-a60137a789a7",
   "metadata": {},
   "outputs": [
    {
     "name": "stdout",
     "output_type": "stream",
     "text": [
      "Fail to reject the null hypothesis: There is not enough evidence to suggest a significant difference in population means.\n",
      "t-Statistic: 2.3240\n",
      "P-Value: 0.0231\n"
     ]
    }
   ],
   "source": [
    "###16(\n",
    "import scipy.stats as stats\n",
    "import math\n",
    "\n",
    "# Given data for Group 1\n",
    "sample_mean1 = 80  # group 1 mean score\n",
    "sample_std_dev1 = 10  # group 1 standard deviation\n",
    "sample_size1 = 30  # group 1 sample size\n",
    "\n",
    "# Given data for Group 2\n",
    "sample_mean2 = 75  # group 2 mean score\n",
    "sample_std_dev2 = 8  # group 2 standard deviation\n",
    "sample_size2 = 40  # group 2 sample size\n",
    "\n",
    "# Calculate the degrees of freedom\n",
    "degrees_of_freedom = sample_size1 + sample_size2 - 2\n",
    "\n",
    "# Calculate the pooled standard deviation\n",
    "pooled_std_dev = math.sqrt(((sample_size1 - 1) * sample_std_dev1**2 + (sample_size2 - 1) * sample_std_dev2**2) / degrees_of_freedom)\n",
    "\n",
    "# Calculate the t-statistic\n",
    "t_statistic = (sample_mean1 - sample_mean2) / (pooled_std_dev * math.sqrt(1/sample_size1 + 1/sample_size2))\n",
    "\n",
    "# Calculate the two-tailed p-value\n",
    "p_value = 2 * (1 - stats.t.cdf(abs(t_statistic), degrees_of_freedom))\n",
    "\n",
    "# Set the significance level\n",
    "alpha = 0.01\n",
    "\n",
    "# Test the hypothesis\n",
    "if p_value < alpha:\n",
    "    print(\"Reject the null hypothesis: The population means for the two groups are significantly different.\")\n",
    "else:\n",
    "    print(\"Fail to reject the null hypothesis: There is not enough evidence to suggest a significant difference in population means.\")\n",
    "    \n",
    "# Display the results\n",
    "print(f\"t-Statistic: {t_statistic:.4f}\")\n",
    "print(f\"P-Value: {p_value:.4f}\")\n"
   ]
  },
  {
   "cell_type": "code",
   "execution_count": 9,
   "id": "010a91be-661e-42e2-bbf0-e589af8224e1",
   "metadata": {},
   "outputs": [
    {
     "name": "stdout",
     "output_type": "stream",
     "text": [
      "99% Confidence Interval for Population Mean: 3.4315 to 4.5685\n"
     ]
    }
   ],
   "source": [
    "###17)\n",
    "import scipy.stats as stats\n",
    "import math\n",
    "\n",
    "# Given data\n",
    "sample_mean = 4\n",
    "sample_std_dev = 1.5\n",
    "sample_size = 50\n",
    "\n",
    "# Calculate the critical value for a 99% confidence interval\n",
    "confidence_level = 0.99\n",
    "degrees_of_freedom = sample_size - 1\n",
    "critical_value = stats.t.ppf((1 + confidence_level) / 2, degrees_of_freedom)\n",
    "\n",
    "# Calculate the margin of error\n",
    "margin_of_error = critical_value * (sample_std_dev / math.sqrt(sample_size))\n",
    "\n",
    "# Calculate the confidence interval\n",
    "lower_bound = sample_mean - margin_of_error\n",
    "upper_bound = sample_mean + margin_of_error\n",
    "\n",
    "# Display the results\n",
    "print(f\"99% Confidence Interval for Population Mean: {lower_bound:.4f} to {upper_bound:.4f}\")\n",
    "\n"
   ]
  },
  {
   "cell_type": "code",
   "execution_count": null,
   "id": "455c252e-b69f-45a3-8673-0f0c973d1749",
   "metadata": {},
   "outputs": [],
   "source": []
  }
 ],
 "metadata": {
  "kernelspec": {
   "display_name": "Python 3 (ipykernel)",
   "language": "python",
   "name": "python3"
  },
  "language_info": {
   "codemirror_mode": {
    "name": "ipython",
    "version": 3
   },
   "file_extension": ".py",
   "mimetype": "text/x-python",
   "name": "python",
   "nbconvert_exporter": "python",
   "pygments_lexer": "ipython3",
   "version": "3.10.8"
  }
 },
 "nbformat": 4,
 "nbformat_minor": 5
}
