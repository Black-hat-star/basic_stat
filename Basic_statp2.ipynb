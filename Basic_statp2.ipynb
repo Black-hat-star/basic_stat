{
 "cells": [
  {
   "cell_type": "raw",
   "id": "b4ba5ea6-9cc7-43fa-b887-6dae7c71faba",
   "metadata": {},
   "source": [
    "1)The three measure of central tendency are  MEAN ,MEDIAN and MODE."
   ]
  },
  {
   "cell_type": "raw",
   "id": "d8368ebf-27c4-407e-9a11-8c19b358a49c",
   "metadata": {},
   "source": [
    "2)The Mean is used for calculating the average of the numerical dataset,  The mean is a measure of central tendency that represents the balancing point of the data. I.Median of the dataset is the the dataset which is present in the middle of the all the dataset The median is a robust measure of central tendency that is not affected by extreme values.  Mode is the data which have maximum number of frequency in all of the dataset The mode provides information about the most common values in a dataset. It is suitable for both numerical and categorical data, and a dataset can be unimodal, bimodal, or multimodal."
   ]
  },
  {
   "cell_type": "raw",
   "id": "5cb559a8-ea2e-4dad-97aa-2e4a12f7823d",
   "metadata": {},
   "source": [
    "3)Mean=11228.518\n",
    "Median=178\n",
    "Mode=177,178\n"
   ]
  },
  {
   "cell_type": "raw",
   "id": "55bde488-203a-4fff-a4c6-0f5619aefad9",
   "metadata": {},
   "source": [
    "5)The range is used to determine the upto where the datas are spreading\n",
    "Variance provides a more precise measures of variablity than the range.It considers the spread of all values in the dataset.\n",
    "It also refers to  the amount by which the model's predictions would change if it were trained on a different dataset.\n",
    "Standard deviation-It measures the average distance of data points from the mean."
   ]
  },
  {
   "cell_type": "raw",
   "id": "482e4f46-4219-43d1-8726-912b9c6fe9fd",
   "metadata": {},
   "source": [
    "7)i)2,6\n",
    "ii)2,3,4,5,6,7,8,0,10"
   ]
  },
  {
   "cell_type": "raw",
   "id": "c5a3fd22-7534-4c95-b751-263e81836965",
   "metadata": {},
   "source": [
    "8)Skewness describes the assymetry or lack of symmetry in a dataset distribution."
   ]
  },
  {
   "cell_type": "raw",
   "id": "16139b9c-39fe-4a60-a9fc-a2f66003957d",
   "metadata": {},
   "source": [
    "9)Mean is greater than the median"
   ]
  },
  {
   "cell_type": "raw",
   "id": "c2ff78bb-0373-4171-8dff-a0de03cdcfb7",
   "metadata": {},
   "source": [
    "10)Coorelation is a method to determine how closely tow parametres are related to each\n",
    "other whereas covariance  is a measure of how much two variables change together."
   ]
  },
  {
   "cell_type": "raw",
   "id": "c348e036-77b0-4c49-8893-62c47f50567d",
   "metadata": {},
   "source": [
    "11)The formula of calculating sample mean is summation of allthe dataset divided by n-1 where n is the sample size of the dataset."
   ]
  },
  {
   "cell_type": "raw",
   "id": "73977518-842d-4ec7-bd5e-d6ec817a72c3",
   "metadata": {},
   "source": [
    "12)Mean=Median=Mode"
   ]
  },
  {
   "cell_type": "raw",
   "id": "2cc28fb1-e92a-4d32-b625-6afb89ca79a7",
   "metadata": {},
   "source": [
    "13)Coorelation is a method to determine how closely tow parametres are related to each\n",
    "other whereas covariance  is a measure of how much two variables change together."
   ]
  },
  {
   "cell_type": "raw",
   "id": "7b84cb6a-0b10-4df2-ba96-14e6261ce4f7",
   "metadata": {},
   "source": [
    "14)Outliers affect central tendency such as mean the more is the distance of normal daataset from outlier the greater is the shifting of mean will occur.\n",
    "which further lead to change in std deviation and variance."
   ]
  },
  {
   "cell_type": "code",
   "execution_count": null,
   "id": "d5711044-16c0-4c07-8ab4-fd732f41d64c",
   "metadata": {},
   "outputs": [],
   "source": []
  }
 ],
 "metadata": {
  "kernelspec": {
   "display_name": "Python 3 (ipykernel)",
   "language": "python",
   "name": "python3"
  },
  "language_info": {
   "codemirror_mode": {
    "name": "ipython",
    "version": 3
   },
   "file_extension": ".py",
   "mimetype": "text/x-python",
   "name": "python",
   "nbconvert_exporter": "python",
   "pygments_lexer": "ipython3",
   "version": "3.10.8"
  }
 },
 "nbformat": 4,
 "nbformat_minor": 5
}
